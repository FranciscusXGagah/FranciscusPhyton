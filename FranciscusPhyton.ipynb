{
 "cells": [
  {
   "cell_type": "code",
   "execution_count": 2,
   "metadata": {},
   "outputs": [
    {
     "name": "stdout",
     "output_type": "stream",
     "text": [
      "Ke perpustakaan cari referensi\n"
     ]
    }
   ],
   "source": [
    "Belajar = True\n",
    "Tidur = False\n",
    "\n",
    "if Belajar == True: # execute this line if Belajar is True\n",
    "    if Tidur == True: # if Belajar and Tidur are True\n",
    "        print('Ke kosnya teman, belajar sambil tiduran')\n",
    "    else: # if Belajar is True, Tidur is False\n",
    "        print('Ke perpustakaan cari referensi')\n",
    "else: # execute this if Belajar is False\n",
    "    if Tidur == False:\n",
    "        print('Ke tempat makan')\n",
    "    else:\n",
    "        print('Pulang ke rumah')"
   ]
  },
  {
   "cell_type": "code",
   "execution_count": 3,
   "metadata": {},
   "outputs": [
    {
     "name": "stdout",
     "output_type": "stream",
     "text": [
      "Pulang ke rumah\n"
     ]
    }
   ],
   "source": [
    "Belajar = False\n",
    "Tidur = True\n",
    "\n",
    "if Belajar == True: # execute this line if Belajar is True\n",
    "    if Tidur == True: # if Belajar and Tidur are True\n",
    "        print('Ke kosnya teman, belajar sambil tiduran')\n",
    "    else: # if Belajar is True, Tidur is False\n",
    "        print('Ke perpustakaan cari referensi')\n",
    "else: # execute this if Belajar is False\n",
    "    if Tidur == False:\n",
    "        print('Ke tempat makan')\n",
    "    else:\n",
    "        print('Pulang ke rumah')"
   ]
  },
  {
   "cell_type": "code",
   "execution_count": null,
   "metadata": {},
   "outputs": [],
   "source": []
  }
 ],
 "metadata": {
  "kernelspec": {
   "display_name": "Python 3",
   "language": "python",
   "name": "python3"
  },
  "language_info": {
   "codemirror_mode": {
    "name": "ipython",
    "version": 3
   },
   "file_extension": ".py",
   "mimetype": "text/x-python",
   "name": "python",
   "nbconvert_exporter": "python",
   "pygments_lexer": "ipython3",
   "version": "3.7.4"
  }
 },
 "nbformat": 4,
 "nbformat_minor": 2
}
